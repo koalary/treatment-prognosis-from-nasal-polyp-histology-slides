{
 "cells": [
  {
   "cell_type": "code",
   "execution_count": null,
   "metadata": {},
   "outputs": [],
   "source": [
    "import numpy as np\n",
    "from tensorflow.keras.models import Model, load_model\n",
    "from tensorflow.keras.layers import Flatten, Dense, Lambda\n",
    "from tensorflow.keras.applications import ResNet50\n",
    "from tensorflow.keras.applications import InceptionV3\n",
    "from tensorflow.keras.applications import Xception # TensorFlow ONLY\n",
    "from tensorflow.keras.applications import VGG16\n",
    "from tensorflow.keras.optimizers import Adam\n",
    "from tensorflow.keras.preprocessing import image\n",
    "from sklearn.metrics import classification_report, confusion_matrix\n",
    "from tensorflow.keras.preprocessing.image import load_img, img_to_array\n",
    "\n",
    "import os\n",
    "import numpy as np\n",
    "from tqdm import tqdm "
   ]
  },
  {
   "cell_type": "code",
   "execution_count": null,
   "metadata": {},
   "outputs": [],
   "source": [
    "## set GPU device\n",
    "os.environ[\"CUDA_VISIBLE_DEVICES\"] = \"1\""
   ]
  },
  {
   "cell_type": "code",
   "execution_count": null,
   "metadata": {},
   "outputs": [],
   "source": [
    "from tensorflow.keras.models import Model, load_model\n",
    "import efficientnet.tfkeras as efn \n",
    "model_a = load_model('efficientnet.h5')"
   ]
  },
  {
   "cell_type": "code",
   "execution_count": null,
   "metadata": {},
   "outputs": [],
   "source": [
    "import os\n",
    "def get_data(dir_path):\n",
    "    P = []\n",
    "    X = []\n",
    "    Y = []\n",
    "    for file in tqdm(os.listdir(dir_path)):\n",
    "        image = load_img(dir_path + '/' + file,target_size=(256,256))\n",
    "        image = img_to_array(image)\n",
    "        image /= 255\n",
    "        P.append(image)\n",
    "        x = file.split('.')[0].split('_')[-2]\n",
    "        y = file.split('.')[0].split('_')[-1] \n",
    "        X.append(int(x))\n",
    "        Y.append(int(y))\n",
    "    P = np.asarray(P)   \n",
    "    return X,Y,P"
   ]
  },
  {
   "cell_type": "code",
   "execution_count": null,
   "metadata": {},
   "outputs": [],
   "source": [
    "dir_path = './test/a'\n",
    "\n",
    "x,y,test_image = get_data(dir_path)\n",
    "Y_pred = model_a.predict(test_image)\n",
    "Label = []\n",
    "Value = []\n",
    "\n",
    "aa = np.zeros((80,180))\n",
    "bb = np.zeros((80,180))\n",
    "\n",
    "for i in range(len(Y_pred)):\n",
    "    new_lable = np.argmax(Y_pred[i][new_lable])\n",
    "    Value.append(Y_pred[i])\n",
    "    Label.append(new_lable)\n",
    "    aa[x[i], y[i]] = Label[i]\n",
    "    bb[x[i], y[i]] = Value[i]"
   ]
  },
  {
   "cell_type": "code",
   "execution_count": null,
   "metadata": {},
   "outputs": [],
   "source": [
    "import matplotlib.pyplot as plt\n",
    "plt.imshow(aa.T, cmap='hot_r')  \n",
    "plt.colorbar(shrink=0.3)\n",
    "plt.axis('off')\n",
    "plt.show() "
   ]
  },
  {
   "cell_type": "code",
   "execution_count": null,
   "metadata": {},
   "outputs": [],
   "source": [
    "import matplotlib.pyplot as plt\n",
    "plt.imshow(bb.T, cmap='hot_r')  \n",
    "plt.colorbar(shrink=0.3)\n",
    "plt.axis('off')\n",
    "plt.show() "
   ]
  }
 ],
 "metadata": {
  "kernelspec": {
   "display_name": "Python 3",
   "language": "python",
   "name": "python3"
  },
  "language_info": {
   "codemirror_mode": {
    "name": "ipython",
    "version": 3
   },
   "file_extension": ".py",
   "mimetype": "text/x-python",
   "name": "python",
   "nbconvert_exporter": "python",
   "pygments_lexer": "ipython3",
   "version": "3.8.8"
  }
 },
 "nbformat": 4,
 "nbformat_minor": 4
}
