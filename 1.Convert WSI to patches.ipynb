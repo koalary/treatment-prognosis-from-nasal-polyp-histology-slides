{
 "cells": [
  {
   "cell_type": "code",
   "execution_count": null,
   "metadata": {},
   "outputs": [],
   "source": [
    "##  Install ASAP1.9 and import\n",
    "import os\n",
    "import multiresolutionimageinterface as mir\n",
    "import openslide\n",
    "import numpy as np\n",
    "import matplotlib.pyplot as plt\n",
    "import numpy as np\n",
    "import os\n",
    "from skimage import io"
   ]
  },
  {
   "cell_type": "code",
   "execution_count": null,
   "metadata": {},
   "outputs": [],
   "source": [
    "wsi_path = './wsi/'  ##  the location where wsis are stored\n",
    "xml_path = './xml/'  ##  the location where region of interest (ROI) are stored\n",
    "mask_path = './mask/'  ##   the location where ROI mask are stored\n",
    "patch_path = './patch/'  ##   the location where patches are stored"
   ]
  },
  {
   "cell_type": "code",
   "execution_count": null,
   "metadata": {},
   "outputs": [],
   "source": [
    "## Generate ROI mask\n",
    "for Dir in os.listdir(wsi_path):\n",
    "    if Dir.endswith('.mrxs'):          ##  modify according to the format of your scanner\n",
    "        print(Dir)\n",
    "        name = Dir.split('.')[0]\n",
    "        #print(name)\n",
    "        reader = mir.MultiResolutionImageReader()\n",
    "        mr_image = reader.open(wsi_path + Dir)\n",
    "        annotation_list = mir.AnnotationList()\n",
    "        xml_repository = mir.XmlRepository(annotation_list)\n",
    "        xml_repository.setSource(xml_path +name + '.xml')\n",
    "        xml_repository.load()\n",
    "        annotation_mask = mir.AnnotationToMask()\n",
    "        output_path = mask_path + name + '.tif'\n",
    "        annotation_mask.convert(annotation_list, output_path, mr_image.getDimensions(), mr_image.getSpacing())"
   ]
  },
  {
   "cell_type": "code",
   "execution_count": null,
   "metadata": {},
   "outputs": [],
   "source": [
    "for Dir in os.listdir(wsi_path):\n",
    "    if Dir.endswith('.mrxs'):\n",
    "        print(Dir)\n",
    "        name = Dir.split('.')[0]\n",
    "        os.makedirs(patch_path + name) \n",
    "        img = openslide.OpenSlide(wsi_path + Dir)\n",
    "        mask = openslide.OpenSlide(mask_path + name + '.tif')\n",
    "        [w, h] = img.level_dimensions[1]\n",
    "        img_gen = DeepZoomGenerator(img, tile_size=1024, overlap=0, limit_bounds=False)\n",
    "        mask_gen = DeepZoomGenerator(mask, tile_size=1024, overlap=0, limit_bounds=False)\n",
    "        \n",
    "        width = highth = 1024     ##Set the resolution of a patch. If GPUs do NOT have enough memory, do NOT rxceed 256. \n",
    "        num_w = int(np.floor(w/width))+1\n",
    "        num_h = int(np.floor(h/highth))+1\n",
    "        for i in range(num_w):\n",
    "            for j in range(num_h):\n",
    "                seg = np.array(mask_gen.get_tile(img_gen.level_count-2, (i, j)))\n",
    "                image = np.array(img_gen.get_tile(img_gen.level_count-2, (i, j)))\n",
    "                \n",
    "                if np.mean(seg) > 0.9:   ##Set the threshold for patch saving\n",
    "                    io.imsave(os.path.join(patch_path + '/' + name ,name+'_'+str(i)+'_'+str(j)+\".jpg\"), image)"
   ]
  }
 ],
 "metadata": {
  "kernelspec": {
   "display_name": "Python 3",
   "language": "python",
   "name": "python3"
  },
  "language_info": {
   "codemirror_mode": {
    "name": "ipython",
    "version": 3
   },
   "file_extension": ".py",
   "mimetype": "text/x-python",
   "name": "python",
   "nbconvert_exporter": "python",
   "pygments_lexer": "ipython3",
   "version": "3.8.3"
  }
 },
 "nbformat": 4,
 "nbformat_minor": 4
}
